{
  "nbformat": 4,
  "nbformat_minor": 0,
  "metadata": {
    "colab": {
      "provenance": []
    },
    "kernelspec": {
      "name": "python3",
      "display_name": "Python 3"
    },
    "language_info": {
      "name": "python"
    }
  },
  "cells": [
    {
      "cell_type": "code",
      "source": [
        "# Smart City Assistant - Colab Version\n",
        "\n",
        "def smart_city_assistant(question):\n",
        "    if \"traffic\" in question.lower():\n",
        "        return \"Traffic is moderate. Use Green Avenue for faster travel.\"\n",
        "    elif \"water\" in question.lower():\n",
        "        return \"Save water by fixing leaks and using buckets instead of showers.\"\n",
        "    elif \"electricity\" in question.lower() or \"energy\" in question.lower():\n",
        "        return \"Switch off unused appliances to save energy.\"\n",
        "    elif \"air quality\" in question.lower():\n",
        "        return \"Today's air quality is Good. Enjoy your day!\"\n",
        "    else:\n",
        "        return \"I'm your Smart City Assistant. Ask me about traffic, water, energy, or air quality.\"\n",
        "\n",
        "# Predefined questions to test\n",
        "test_questions = [\n",
        "    \"How's the traffic today?\",\n",
        "    \"Give me water saving tips\",\n",
        "    \"Tell me about energy saving\",\n",
        "    \"What is today's air quality?\"\n",
        "]\n",
        "\n",
        "# Run test\n",
        "for q in test_questions:\n",
        "    print(f\"\\nYou: {q}\")\n",
        "    print(\"Assistant:\", smart_city_assistant(q))"
      ],
      "metadata": {
        "colab": {
          "base_uri": "https://localhost:8080/"
        },
        "id": "8L1uiS4GOcYg",
        "outputId": "aeefc2f3-35b1-4fa9-fbc2-4e23331c8aa7"
      },
      "execution_count": 3,
      "outputs": [
        {
          "output_type": "stream",
          "name": "stdout",
          "text": [
            "\n",
            "You: How's the traffic today?\n",
            "Assistant: Traffic is moderate. Use Green Avenue for faster travel.\n",
            "\n",
            "You: Give me water saving tips\n",
            "Assistant: Save water by fixing leaks and using buckets instead of showers.\n",
            "\n",
            "You: Tell me about energy saving\n",
            "Assistant: Switch off unused appliances to save energy.\n",
            "\n",
            "You: What is today's air quality?\n",
            "Assistant: Today's air quality is Good. Enjoy your day!\n"
          ]
        }
      ]
    }
  ]
}